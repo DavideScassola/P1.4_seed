{
 "cells": [
  {
   "cell_type": "code",
   "execution_count": 1,
   "metadata": {},
   "outputs": [
    {
     "name": "stdout",
     "output_type": "stream",
     "text": [
      "Populating the interactive namespace from numpy and matplotlib\n"
     ]
    }
   ],
   "source": [
    "%pylab inline"
   ]
  },
  {
   "cell_type": "code",
   "execution_count": null,
   "metadata": {},
   "outputs": [],
   "source": []
  },
  {
   "cell_type": "code",
   "execution_count": 99,
   "metadata": {},
   "outputs": [],
   "source": [
    "A = diag(8*ones(8)) + diag(2*ones(7),1) + diag(2*ones(7),-1)\n",
    "b = A.dot(ones(8))\n",
    "\n",
    "epsilon = 1E-12\n",
    "\n",
    "def diagonal_preconditioner(A):\n",
    "    return diag(diag(A))\n",
    "\n",
    "def lower_triangular_preconditioner(A):\n",
    "    return tril(A)\n",
    "\n",
    "def alpha_stat(A,Pinv,r):\n",
    "    ev = eig(A)[0]\n",
    "    return 2/(max(ev)+min(ev))\n",
    "\n",
    "def alpha_dyn(A,Pinv,r):\n",
    "    z = Pinv.dot(r)\n",
    "    return z.dot(r)/(z.dot(A.dot(z)))\n",
    "\n",
    "def richardson(A,b,preconditioner,alpha,epsilon):\n",
    "    l = len(A)\n",
    "    x = zeros(l)\n",
    "    r = b - A.dot(x)\n",
    "    Pinv = inv(preconditioner(A))\n",
    "    iterations = 0\n",
    "    l = []\n",
    "    while(norm(r)>epsilon):\n",
    "        x = x + Pinv.dot(r*alpha(A,Pinv,r))\n",
    "        r = b - A.dot(x)\n",
    "        iterations = iterations + 1\n",
    "        l.append(norm(r))\n",
    "        \n",
    "    print(\"used {} iterations\".format(iterations))\n",
    "    return x, l\n",
    "\n",
    "jacobi = lambda A,b,epsilon: richardson(A,b,diagonal_preconditioner,lambda a,b,c: 1,epsilon)\n",
    "gauss_seidel = lambda A,b,epsilon: richardson(A,b,lower_triangular_preconditioner,lambda a,b,c: 1,epsilon)\n",
    "stat_rich = lambda A,b,epsilon: richardson(A,b,lambda A:A,alpha_stat,epsilon)\n",
    "gradient = lambda A,b,epsilon: richardson(A,b,lambda A:A,alpha_dyn,epsilon)"
   ]
  },
  {
   "cell_type": "code",
   "execution_count": 102,
   "metadata": {},
   "outputs": [
    {
     "name": "stdout",
     "output_type": "stream",
     "text": [
      "used 42 iterations\n",
      "used 21 iterations\n",
      "used 234 iterations\n",
      "used 1 iterations\n"
     ]
    }
   ],
   "source": [
    "jc = jacobi(A,b,epsilon)[1]\n",
    "gs = gauss_seidel(A,b,epsilon)[1]\n",
    "sr = stat_rich(A,b,epsilon)[1]\n",
    "gr = gradient(A,b,epsilon)[1]"
   ]
  },
  {
   "cell_type": "code",
   "execution_count": 113,
   "metadata": {},
   "outputs": [
    {
     "data": {
      "text/plain": [
       "[<matplotlib.lines.Line2D at 0x7f4e0e77f748>]"
      ]
     },
     "execution_count": 113,
     "metadata": {},
     "output_type": "execute_result"
    },
    {
     "data": {
      "image/png": "[encoded data removed]",
      "text/plain": [
       "<Figure size 432x288 with 1 Axes>"
      ]
     },
     "metadata": {
      "needs_background": "light"
     },
     "output_type": "display_data"
    }
   ],
   "source": [
    "semilogy(range(len(jc)),jc)\n",
    "semilogy(range(len(gs)),gs)\n",
    "semilogy(range(len(sr)),sr)\n",
    "semilogy(range(len(gr)),gr)\n",
    "semilogy(range(250),epsilon*ones(250))"
   ]
  }
 ],
 "metadata": {
  "kernelspec": {
   "display_name": "Python 3",
   "language": "python",
   "name": "python3"
  },
  "language_info": {
   "codemirror_mode": {
    "name": "ipython",
    "version": 3
   },
   "file_extension": ".py",
   "mimetype": "text/x-python",
   "name": "python",
   "nbconvert_exporter": "python",
   "pygments_lexer": "ipython3",
   "version": "3.7.0"
  }
 },
 "nbformat": 4,
 "nbformat_minor": 2
}
