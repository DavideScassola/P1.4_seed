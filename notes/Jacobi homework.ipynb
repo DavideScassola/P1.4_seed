{
 "cells": [
  {
   "cell_type": "code",
   "execution_count": 1,
   "metadata": {},
   "outputs": [
    {
     "name": "stdout",
     "output_type": "stream",
     "text": [
      "Populating the interactive namespace from numpy and matplotlib\n"
     ]
    }
   ],
   "source": [
    "%pylab inline"
   ]
  },
  {
   "cell_type": "code",
   "execution_count": 95,
   "metadata": {},
   "outputs": [],
   "source": [
    "A = np.mat('1 2 -2; 1 1 1; 2 2 1')\n",
    "b = A.dot([1,2,3]).T"
   ]
  },
  {
   "cell_type": "code",
   "execution_count": 111,
   "metadata": {},
   "outputs": [],
   "source": [
    "def jacobi(A,b,epsilon):\n",
    "    Pinv = diag(1/(diag(A)))\n",
    "    I = diag(ones(len(A)))\n",
    "    B = I - Pinv.dot(A)\n",
    "    print(\"B is\", B)\n",
    "    print(\"eigenvalues: \",eig(B)[0])\n",
    "    g = Pinv.dot(b)\n",
    "    x = zeros(len(A))\n",
    "    while(norm(b-A.dot(x))>epsilon):\n",
    "        x = B.dot(x) + g\n",
    "        print(x[:,0])\n",
    "    return x[:,0]"
   ]
  },
  {
   "cell_type": "code",
   "execution_count": 112,
   "metadata": {},
   "outputs": [
    {
     "name": "stdout",
     "output_type": "stream",
     "text": [
      "B is [[ 0. -2.  2.]\n",
      " [-1.  0. -1.]\n",
      " [-2. -2.  0.]]\n",
      "eigenvalues:  [-6.16610918e-06+1.06799587e-05j -6.16610918e-06-1.06799587e-05j\n",
      "  1.23322184e-05+0.00000000e+00j]\n",
      "[[-1.]\n",
      " [ 6.]\n",
      " [ 9.]]\n",
      "[[ 5.]\n",
      " [-2.]\n",
      " [-1.]]\n",
      "[[1.]\n",
      " [2.]\n",
      " [3.]]\n"
     ]
    }
   ],
   "source": [
    "x = jacobi(A,b,0.00000004)"
   ]
  },
  {
   "cell_type": "code",
   "execution_count": 70,
   "metadata": {},
   "outputs": [
    {
     "ename": "SyntaxError",
     "evalue": "invalid syntax (<ipython-input-70-6d88e4e6ecf8>, line 7)",
     "output_type": "error",
     "traceback": [
      "\u001b[0;36m  File \u001b[0;32m\"<ipython-input-70-6d88e4e6ecf8>\"\u001b[0;36m, line \u001b[0;32m7\u001b[0m\n\u001b[0;31m    x\u001b[0m\n\u001b[0m    ^\u001b[0m\n\u001b[0;31mSyntaxError\u001b[0m\u001b[0;31m:\u001b[0m invalid syntax\n"
     ]
    }
   ],
   "source": []
  }
 ],
 "metadata": {
  "kernelspec": {
   "display_name": "Python 3",
   "language": "python",
   "name": "python3"
  },
  "language_info": {
   "codemirror_mode": {
    "name": "ipython",
    "version": 3
   },
   "file_extension": ".py",
   "mimetype": "text/x-python",
   "name": "python",
   "nbconvert_exporter": "python",
   "pygments_lexer": "ipython3",
   "version": "3.7.0"
  }
 },
 "nbformat": 4,
 "nbformat_minor": 2
}
