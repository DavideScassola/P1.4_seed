{
 "cells": [
  {
   "cell_type": "markdown",
   "metadata": {},
   "source": [
    "# Eigenvalue and eigenvectors calculation\n",
    "\n",
    "$$\n",
    "A\\mathbf{x} = \\lambda \\mathbf{x}\n",
    "$$\n",
    "\n",
    "### Power method (vector iteration)\n",
    "- find the largest eigenvalue $\\lambda_{max}$\n",
    "\\begin{align}\n",
    "\\mathbf{q}_k & = \\frac{\\mathbf{z}_{k-1}}{\\|\\mathbf{z}_{k-1}\\|_2}\\\\\n",
    "\\mathbf{z}_k & = A\\mathbf{q}_{k}\\\\\n",
    "\\lambda_{max}^k & = \\mathbf{q}^T_k \\mathbf{z}_k\n",
    "\\end{align}"
   ]
  },
  {
   "cell_type": "code",
   "execution_count": null,
   "metadata": {},
   "outputs": [],
   "source": []
  },
  {
   "cell_type": "code",
   "execution_count": 18,
   "metadata": {},
   "outputs": [
    {
     "name": "stdout",
     "output_type": "stream",
     "text": [
      "error = 8.456086476564182e-06 iterations = 82\n",
      "lambda_max = 249.73523408577813\n",
      "numpy\n",
      "[249.73523409 231.55417528 203.23651229 167.55417528 128.\n",
      "   6.26476591  24.44582472  88.44582472  52.76348771]\n"
     ]
    }
   ],
   "source": [
    "%matplotlib inline\n",
    "from numpy import *\n",
    "from matplotlib.pyplot import *\n",
    "import numpy.linalg\n",
    "import scipy.linalg\n",
    "\n",
    "n = 9\n",
    "h = 1./(n-1)\n",
    "\n",
    "x=linspace(0,1,n)\n",
    "\n",
    "a = -ones((n-1,))\n",
    "b = 2*ones((n,))\n",
    "A = (diag(a, -1) + diag(b, 0) + diag(a, +1))\n",
    "\n",
    "A /= h**2\n",
    "\n",
    "#print A\n",
    "\n",
    "\n",
    "\n",
    "z0 = ones_like(x)\n",
    "\n",
    "\n",
    "def PM(A,z0,tol=1e-5,nmax=500):\n",
    "    q = z0/numpy.linalg.norm(z0,2)\n",
    "    it = 0\n",
    "    err = tol + 1.\n",
    "    while it < nmax and err > tol:\n",
    "        z = dot(A,q)\n",
    "        l = dot(q.T,z)\n",
    "        err = numpy.linalg.norm(z-l*q,2)\n",
    "        q = z/numpy.linalg.norm(z,2)\n",
    "        \n",
    "        it += 1\n",
    "    print(\"error =\", err, \"iterations =\", it)\n",
    "    print(\"lambda_max =\", l)\n",
    "    return l,q\n",
    "\n",
    "l,x = PM(A,z0)\n",
    "    \n",
    "l_np, x_np = numpy.linalg.eig(A)\n",
    "\n",
    "print(\"numpy\")\n",
    "print(l_np)"
   ]
  },
  {
   "cell_type": "markdown",
   "metadata": {},
   "source": [
    "### Inverse power method\n",
    "- find the eigenvalue $\\lambda$ **closest** to $\\mu$\n",
    "\\begin{align}\n",
    "M & = A-\\mu I\\\\\n",
    "M & = LU \\\\\n",
    "& \\\\\n",
    "M\\mathbf{x}_k &= \\mathbf q_{k-1}\\\\\n",
    "\\mathbf{q}_k & = \\frac{\\mathbf{x}_k}{\\|\\mathbf{x}_k\\|_2}\\\\\n",
    "\\mathbf{z}_k & = A\\mathbf{q}_{k}\\\\\n",
    "\\lambda^k & = \\mathbf{q}^T_k \\mathbf{z}_k\n",
    "\\end{align}\n"
   ]
  },
  {
   "cell_type": "code",
<<<<<<< HEAD
   "execution_count": 22,
=======
   "execution_count": 10,
>>>>>>> upstream/master
   "metadata": {},
   "outputs": [
    {
     "name": "stdout",
     "output_type": "stream",
     "text": [
<<<<<<< HEAD
      "error = 6.731978261395524e-06 iterations = 22\n",
      "lambda_max = 24.44582472000424\n"
=======
      "error = 2.63101645873e-06 iterations = 3\n",
      "lambda = 6.26476591422\n"
>>>>>>> upstream/master
     ]
    }
   ],
   "source": [
    "def IPM(A,x0,mu,tol=1e-5,nmax=500):\n",
<<<<<<< HEAD
    "    M = A - mu*diag(ones(len(A)))\n",
    "    P,LU = scipy.linalg.lu_factor(M)\n",
=======
    "    M = A -mu*eye(len(A))\n",
    "    P,L,U = scipy.linalg.lu(M)\n",
    "    err = tol + 1.\n",
    "    it = 0\n",
    "    q = x0/numpy.linalg.norm(x0,2)\n",
    "    while it < nmax and err > tol :\n",
    "        y = scipy.linalg.solve(L,dot(P.T,q))\n",
    "        x = scipy.linalg.solve(U,y)\n",
    "        q = x/numpy.linalg.norm(x,2)\n",
    "        z = dot(A,q)\n",
    "        l = dot(q.T,z)\n",
    "        err = numpy.linalg.norm(z-l*q,2)\n",
    "        it += 1\n",
    "    print(\"error =\", err, \"iterations =\", it)\n",
    "    print(\"lambda =\", l)\n",
    "    return l,q\n",
>>>>>>> upstream/master
    "\n",
    "    it = 0\n",
    "    err = tol + 1.\n",
    "    x = x0\n",
    "    while it < nmax and err > tol:\n",
    "        q = x/numpy.linalg.norm(x,2)\n",
    "        x = scipy.linalg.lu_solve((P,LU),q)\n",
    "        z = A.dot(q)\n",
    "        l = q.dot(z)\n",
    "        \n",
    "        err = numpy.linalg.norm(z-l*q,2)\n",
    "        \n",
    "        it += 1\n",
    "        \n",
    "    print(\"error =\", err, \"iterations =\", it)\n",
    "    print(\"lambda_max =\", l)\n",
    "    return l,q\n",
    "\n",
    "l,x = IPM(A,z0,23.)\n"
   ]
  },
  {
   "cell_type": "code",
   "execution_count": 16,
   "metadata": {},
   "outputs": [],
   "source": []
  },
  {
   "cell_type": "code",
   "execution_count": 20,
   "metadata": {},
   "outputs": [
    {
     "data": {
      "text/plain": [
       "(array([249.73523409, 231.55417528, 203.23651229, 167.55417528,\n",
       "        128.        ,   6.26476591,  24.44582472,  88.44582472,\n",
       "         52.76348771]),\n",
       " array([[ 1.38196601e-01,  2.62865556e-01, -3.61803399e-01,\n",
       "         -4.25325404e-01,  4.47213595e-01, -1.38196601e-01,\n",
       "          2.62865556e-01, -4.25325404e-01,  3.61803399e-01],\n",
       "        [-2.62865556e-01, -4.25325404e-01,  4.25325404e-01,\n",
       "          2.62865556e-01, -3.75992312e-16, -2.62865556e-01,\n",
       "          4.25325404e-01, -2.62865556e-01,  4.25325404e-01],\n",
       "        [ 3.61803399e-01,  4.25325404e-01, -1.38196601e-01,\n",
       "          2.62865556e-01, -4.47213595e-01, -3.61803399e-01,\n",
       "          4.25325404e-01,  2.62865556e-01,  1.38196601e-01],\n",
       "        [-4.25325404e-01, -2.62865556e-01, -2.62865556e-01,\n",
       "         -4.25325404e-01, -1.62472912e-16, -4.25325404e-01,\n",
       "          2.62865556e-01,  4.25325404e-01, -2.62865556e-01],\n",
       "        [ 4.47213595e-01,  2.01487041e-15,  4.47213595e-01,\n",
       "          3.33310774e-16,  4.47213595e-01, -4.47213595e-01,\n",
       "         -1.34331906e-16,  8.85697606e-17, -4.47213595e-01],\n",
       "        [-4.25325404e-01,  2.62865556e-01, -2.62865556e-01,\n",
       "          4.25325404e-01,  1.72998857e-16, -4.25325404e-01,\n",
       "         -2.62865556e-01, -4.25325404e-01, -2.62865556e-01],\n",
       "        [ 3.61803399e-01, -4.25325404e-01, -1.38196601e-01,\n",
       "         -2.62865556e-01, -4.47213595e-01, -3.61803399e-01,\n",
       "         -4.25325404e-01, -2.62865556e-01,  1.38196601e-01],\n",
       "        [-2.62865556e-01,  4.25325404e-01,  4.25325404e-01,\n",
       "         -2.62865556e-01, -3.94643758e-16, -2.62865556e-01,\n",
       "         -4.25325404e-01,  2.62865556e-01,  4.25325404e-01],\n",
       "        [ 1.38196601e-01, -2.62865556e-01, -3.61803399e-01,\n",
       "          4.25325404e-01,  4.47213595e-01, -1.38196601e-01,\n",
       "         -2.62865556e-01,  4.25325404e-01,  3.61803399e-01]]))"
      ]
     },
     "execution_count": 20,
     "metadata": {},
     "output_type": "execute_result"
    }
   ],
   "source": [
    "linalg.eig(A)"
   ]
  }
 ],
 "metadata": {
  "anaconda-cloud": {},
  "kernelspec": {
   "display_name": "Python 3",
   "language": "python",
   "name": "python3"
  },
  "language_info": {
   "codemirror_mode": {
    "name": "ipython",
    "version": 3
   },
   "file_extension": ".py",
   "mimetype": "text/x-python",
   "name": "python",
   "nbconvert_exporter": "python",
   "pygments_lexer": "ipython3",
<<<<<<< HEAD
   "version": "3.7.0"
=======
   "version": "3.7.2rc1"
>>>>>>> upstream/master
  }
 },
 "nbformat": 4,
 "nbformat_minor": 1
}
