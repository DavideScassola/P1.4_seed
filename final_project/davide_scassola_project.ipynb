{
 "cells": [
  {
   "cell_type": "markdown",
   "metadata": {},
   "source": [
    "# Davide Scassola, Numerical Analysis project"
   ]
  },
  {
   "cell_type": "code",
   "execution_count": 1,
   "metadata": {},
   "outputs": [
    {
     "name": "stdout",
     "output_type": "stream",
     "text": [
      "Populating the interactive namespace from numpy and matplotlib\n"
     ]
    }
   ],
   "source": [
    "%pylab inline"
   ]
  },
  {
   "cell_type": "code",
   "execution_count": 4,
   "metadata": {},
   "outputs": [
    {
     "name": "stdout",
     "output_type": "stream",
     "text": [
      "(60000, 28, 28) (60000,)\n",
      "(10000, 28, 28) (10000,)\n"
     ]
    }
   ],
   "source": [
    "arc = load('mnist.npz')\n",
    "\n",
    "x_train = arc['arr_0']\n",
    "y_train = arc['arr_1']\n",
    "x_test  = arc['arr_2']\n",
    "y_test  = arc['arr_3']\n",
    "\n",
    "print(x_train.shape, y_train.shape)\n",
    "print(x_test.shape, y_test.shape)"
   ]
  },
  {
   "cell_type": "code",
   "execution_count": 5,
   "metadata": {},
   "outputs": [
    {
     "data": {
      "image/png": "[encoded data removed]",
      "text/plain": [
       "<Figure size 432x288 with 1 Axes>"
      ]
     },
     "metadata": {
      "needs_background": "light"
     },
     "output_type": "display_data"
    }
   ],
   "source": [
    "# Show image number 15, and write in the title what digit it should correspond to\n",
    "N=15\n",
    "imshow(x_train[N], cmap='gray_r')\n",
    "_ = title('Hand written digit '+str(y_train[N]))"
   ]
  },
  {
   "cell_type": "code",
   "execution_count": 6,
   "metadata": {},
   "outputs": [],
   "source": [
    "def classify(z, dist):\n",
    "    all_distances = array([dist(x, z) for x in x_train])\n",
    "    digit = y_train[argmin(all_distances)]\n",
    "    return digit"
   ]
  },
  {
   "cell_type": "markdown",
   "metadata": {},
   "source": [
    "General guidelines:\n",
    "\n",
    "- Time all functions you construct, and try to make them run as fast as possible by precomputing anything that can be precomputed\n",
    "- Extra points are gained if you reduce the complexity of the given algorithms in any possible way, for example by exploiting linearity, etc.\n",
    "- If something takes too long to execute, make sure you time it on a smaller set of input data, and give estimates of how long it would take to run the full thing (without actually running it). Plot only the results you manage to run on your PC.\n",
    "\n",
    "\n",
    "# Assignment 1\n",
    "\n",
    "Implement the following distance functions\n",
    "\n",
    "- d_infty $$ d_{\\infty}(a,b) := \\max_{i,j} |b_{ij}-a_{ij}|$$\n",
    "- d_one $$ d_1(a,b) := \\sum_{i,j} |b_{ij}-a_{ij}|$$\n",
    "- d_two $$ d_2(a,b) := \\sqrt{\\sum_{i,j} |b_{ij}-a_{ij}|^2}$$\n",
    "\n",
    "that take two `(28,28)` images in input, and return a non-negative number."
   ]
  },
  {
   "cell_type": "code",
   "execution_count": 8,
   "metadata": {},
   "outputs": [],
   "source": [
    "def d_infty(a,b):\n",
    "    return norm((a-b).ravel(), inf)\n",
    "\n",
    "def d_one(a,b):\n",
    "    return norm((a-b).ravel(), 1)\n",
    "\n",
    "def d_two(a,b):\n",
    "    return norm((a-b).ravel(), 2)"
   ]
  },
  {
   "cell_type": "markdown",
   "metadata": {},
   "source": [
    "# Assignment 2\n",
    "\n",
    "Write a function that, given a number `N`, and a distance function `dist`, computes the distance matrix D of shape `(N,N)` between the first `N` entries of `x_train`:\n",
    "\n",
    "```\n",
    "D[i,j] = dist(x_train[i], x_train[j])\n",
    "```\n",
    "\n",
    "performing the **minimum** number of operations (i.e., avoid computing a distance if it has already been computed before, i.e., keep in mind that dist(a,b) = dist(b,a))."
   ]
  },
  {
   "cell_type": "code",
   "execution_count": 9,
   "metadata": {},
   "outputs": [],
   "source": [
    "def distance_matrix(N,dist):\n",
    "    D = zeros((N,N))\n",
    "    for i in range(N):\n",
    "        \"\"\"it's not necessary to compute the diagonal, but it's cheap and\n",
    "            can be useful for checking the correctness\"\"\"\n",
    "        for j in range(i+1): \n",
    "            D[i,j] = D[j,i] = dist(x_train[i],x_train[j])\n",
    "    return D\n"
   ]
  },
  {
   "cell_type": "markdown",
   "metadata": {},
   "source": [
    "# Assignment 3\n",
    "\n",
    "Compute and plot the three distance matrices\n",
    "\n",
    "- Dinfty\n",
    "- D1\n",
    "- D2\n",
    "\n",
    "for the first 100 images of the training set, using the function `imshow` applied to the three matrices"
   ]
  },
  {
   "cell_type": "code",
   "execution_count": 7,
   "metadata": {},
   "outputs": [
    {
     "data": {
      "image/png": "[encoded data removed]",
      "text/plain": [
       "<Figure size 432x288 with 1 Axes>"
      ]
     },
     "metadata": {
      "needs_background": "light"
     },
     "output_type": "display_data"
    }
   ],
   "source": [
    "imshow(distance_matrix(100,d_infty), cmap='gray_r')\n",
    "_ = title('d_infty distance matrix')"
   ]
  },
  {
   "cell_type": "code",
   "execution_count": 8,
   "metadata": {},
   "outputs": [
    {
     "data": {
      "image/png": "[encoded data removed]",
      "text/plain": [
       "<Figure size 432x288 with 1 Axes>"
      ]
     },
     "metadata": {
      "needs_background": "light"
     },
     "output_type": "display_data"
    }
   ],
   "source": [
    "imshow(distance_matrix(100,d_one), cmap='gray_r')\n",
    "_ = title('d_one distance matrix')"
   ]
  },
  {
   "cell_type": "code",
   "execution_count": 9,
   "metadata": {},
   "outputs": [
    {
     "data": {
      "image/png": "[encoded data removed]",
      "text/plain": [
       "<Figure size 432x288 with 1 Axes>"
      ]
     },
     "metadata": {
      "needs_background": "light"
     },
     "output_type": "display_data"
    }
   ],
   "source": [
    "imshow(distance_matrix(100,d_two), cmap='gray_r')\n",
    "_ = title('d_two distance matrix')"
   ]
  },
  {
   "cell_type": "markdown",
   "metadata": {},
   "source": [
    "# Assignment 4\n",
    "\n",
    "Using only a distance matrix, apply the algorithm described above and compute the efficency of the algorithm, i.e., write a function that:\n",
    "\n",
    "Given a distance matrix with shape `(N,N)`, constructed on the first `N` samples of the `x_train` set, count the number of failures of the **leave one out** strategy, i.e., \n",
    "\n",
    "- set `error_counter` to zero\n",
    "\n",
    "- for every line `i` of the matrix:\n",
    "\n",
    "    - find the index `j` (different from `i`) for which `D[i,k] >= D[i,j]` for all `k` different from `i` and `j`.\n",
    "\n",
    "    - if `y_train[j]` is different from `y_train[i]`, increment by one `error_counter`\n",
    "\n",
    "- return the error: error_counter/N\n",
    "\n",
    "- apply the function above to the 3 different distance matrices you computed before"
   ]
  },
  {
   "cell_type": "code",
   "execution_count": 35,
   "metadata": {},
   "outputs": [],
   "source": [
    "def performance_evaluator(N, dist_mat):\n",
    "    \"\"\"I can input a bigger matrix\"\"\"\n",
    "    D = dist_mat[0:N,0:N] \n",
    "    error_counter = 0\n",
    "    D[0,0] = D[0,1]+42 # so the first doesn't consider itself\n",
    "    for i in range(N):\n",
    "        l = D[i]\n",
    "        l[i] = l[0]+33 # so it doesn't consider itself\n",
    "        closer_one = argmin(l)\n",
    "        if(y_train[i] != y_train[closer_one]):\n",
    "            error_counter = error_counter + 1\n",
    "        l[i]=0 # correcting the matrix\n",
    "             \n",
    "    return error_counter/N"
   ]
  },
  {
   "cell_type": "markdown",
   "metadata": {},
   "source": [
    "# Assignment 5\n",
    "\n",
    "Run the algorithm implemented above for N=100,200,400,800,1600 on the three different distances, and plot the three error rate as a function of N (i.e., compute the distance matrix, and compute the efficiency associated to the distance matrix).\n",
    "\n",
    "You should get an error like:\n",
    "```\n",
    "[[ 0.58      0.17      0.17    ]\n",
    " [ 0.52      0.145     0.135   ]\n",
    " [ 0.4425    0.15      0.135   ]\n",
    " [ 0.4       0.145     0.12875 ]\n",
    " [ 0.369375  0.1025    0.09375 ]]\n",
    "```\n",
    "where each column represents a different norm."
   ]
  },
  {
   "cell_type": "code",
   "execution_count": 36,
   "metadata": {},
   "outputs": [
    {
     "name": "stdout",
     "output_type": "stream",
     "text": [
      "error rate for d_infty, d_one and d_two:\n"
     ]
    },
    {
     "data": {
      "text/plain": [
       "[[0.58, 0.17, 0.17],\n",
       " [0.52, 0.145, 0.135],\n",
       " [0.4425, 0.15, 0.135],\n",
       " [0.4, 0.145, 0.12875],\n",
       " [0.369375, 0.1025, 0.09375]]"
      ]
     },
     "execution_count": 36,
     "metadata": {},
     "output_type": "execute_result"
    }
   ],
   "source": [
    "sizes = [100,200,400,800,1600]\n",
    "D_infty = distance_matrix(max(sizes),d_infty)\n",
    "D_one = distance_matrix(max(sizes),d_one)\n",
    "D_two = distance_matrix(max(sizes),d_two) \n",
    "errors = [[performance_evaluator(n,d) for d in [D_infty,D_one,D_two]] for n in sizes]\n",
    "print(\"error rate for d_infty, d_one and d_two:\")\n",
    "errors"
   ]
  },
  {
   "cell_type": "code",
   "execution_count": 37,
   "metadata": {},
   "outputs": [
    {
     "data": {
      "image/png": "[encoded data removed]",
      "text/plain": [
       "<Figure size 432x288 with 1 Axes>"
      ]
     },
     "metadata": {
      "needs_background": "light"
     },
     "output_type": "display_data"
    }
   ],
   "source": [
    "errors = array(errors)\n",
    "for i in range(len(errors.T)):\n",
    "    plot(sizes, errors.T[i])\n",
    "    \n",
    "_ = title('efficiency comparison between d_infty, d_one and d_two')\n",
    "_ = legend(['d_infty','d_one','d_two'])"
   ]
  },
  {
   "cell_type": "markdown",
   "metadata": {},
   "source": [
    "** In the next assignments, optional points are given if you manage to make the algorithm run faster, by pre-computing everything you can precompute in advance **\n",
    "\n",
    "# Assignment 6\n",
    "\n",
    "In principle, it should be possible to decrease the error by using a better norm. From the table above, it is clear that the L2 distance works better than the L1 distance, which works better than the Linfty distance.\n",
    "\n",
    "However, *none of these distances exploit the fact that the image is a two-dimensional object*, and that there is information also in the **neighboring** information of the pixels. \n",
    "\n",
    "One way to exploit this, is to interpret the image as a continuous function with values between zero and one, defined on a square domain `\\Omega=[0,27]x[0,27]`.\n",
    "\n",
    "$$ f: \\Omega \\to R $$\n",
    "\n",
    "- Implement a function that computes an approximation of the $H^1$ norm distance on the renormalized images. Given two images $f_1$ and $f_2$\n",
    "    - Compute $$a = \\frac{f_1}{\\int_\\Omega f_1}$$, $$b=\\frac{f_2}{\\int_\\Omega f_2}$$\n",
    "    - Define the $H^1$ distance as\n",
    "    $$\n",
    "    d_{H^1}(f_1,f_2) := \\sqrt{\\int_\\Omega |\\nabla(a-b)|^2+ (a-b)^2}\n",
    "    $$\n",
    "    using the algorithm you prefer (or the library you prefer) to compute the gradients and the integrals. Notice that $\\nabla f = (\\partial f/\\partial x, \\partial f/\\partial y)$ is a vector valued function, and $|\\nabla g|^2 := (\\partial g/\\partial x)^2 + (\\partial g/\\partial y)^2$\n",
    "\n",
    "- Compute the distance matrix and the efficiency for this distance for N=100,200,400,800,1600\n"
   ]
  },
  {
   "cell_type": "code",
   "execution_count": 38,
   "metadata": {},
   "outputs": [],
   "source": [
    "# I consider the image as a square of size 28x28, so dividing the side length by 28 \n",
    "# we obtain intervals of 1 (h=1)\n",
    "\n",
    "def image_integral(image):\n",
    "    \"\"\"it's just the sum, since the volume is the sum of \"boxes\" which base area is 1\"\"\"  \n",
    "    return sum(image)\n",
    "\n",
    "def gradient_norm(f):\n",
    "    gr = numpy.gradient(f)\n",
    "    return gr[0]**2 + gr[1]**2\n",
    "\n",
    "def d_H1(f1,f2):\n",
    "    a = f1/image_integral(f1)\n",
    "    b = f2/image_integral(f2)\n",
    "    \n",
    "    diff = a-b\n",
    "    \n",
    "    \"\"\" I think I don't really need to compute the sqrt function if I just want to compare\n",
    "        disances, since the square root it's a monotonous positive increasing function,\n",
    "        so it doesn't change the ordering in the space. \"\"\"\n",
    "    return sqrt(image_integral(gradient_norm(diff) + diff**2))"
   ]
  },
  {
   "cell_type": "code",
   "execution_count": 39,
   "metadata": {},
   "outputs": [],
   "source": [
    "\"\"\"It can be useful to do the following operations also in the test set\"\"\"\n",
    "x = concatenate((x_train, x_test),axis = 0)"
   ]
  },
  {
   "cell_type": "code",
   "execution_count": 40,
   "metadata": {},
   "outputs": [],
   "source": [
    "\"\"\" This distance requires more operations, so I try to exploit linearity \n",
    "    and do some precalculations on x.\"\"\"\n",
    "\n",
    "\n",
    "\"\"\" First, I generate the set of renormalized images. \"\"\"\n",
    "\n",
    "def generate_normalized_x():\n",
    "    n = len(x)\n",
    "    im_n = zeros(shape(x))\n",
    "    for i in range(n):\n",
    "        im_n[i] = x[i]/image_integral(x[i]) # normalizing   \n",
    "    return im_n\n",
    "        \n",
    "normalized_x  =  generate_normalized_x()\n",
    "\n",
    "\n",
    "\n",
    "\"\"\" Then, I generate the set of gradients of every normalized image.\n",
    "    Exploiting linearity I can avoid the calculation of the gradient for each difference (a-b),\n",
    "    so I have to compute just n gradients instead of n^2. \"\"\"\n",
    "\n",
    "# first index varies the image, the second one choose the x or y derivative\n",
    "def generate_gradient_x():\n",
    "    n = len(x)\n",
    "    l = len(x[0])\n",
    "    im_gr = zeros((n,2,l,l))\n",
    "    for i in range(n):\n",
    "        im_gr[i] = numpy.gradient(normalized_x[i]) # gradient\n",
    "    return im_gr\n",
    "\n",
    "gradient_x = generate_gradient_x()\n",
    "\n",
    "\n",
    "\"\"\" Now I write a function that calculate the d_H1 distance between two images of the training set,\n",
    "    the difference is that I compute two normalization and one gradient less than before.\n",
    "    Note that for computing the distance between two images that don't necessarily belong to the training+test set,\n",
    "    I still need the generic d_H1. \"\"\"\n",
    "\n",
    "def d_H1_cached(i,j):\n",
    "    a = normalized_x[i]\n",
    "    b = normalized_x[j]\n",
    "    \n",
    "    grXa = gradient_x[i][0]\n",
    "    grYa = gradient_x[i][1]\n",
    "    grXb = gradient_x[j][0]\n",
    "    grYb = gradient_x[j][1]\n",
    "    \n",
    "    return sqrt(image_integral( (grXa-grXb)**2 + (grYa-grYb)**2 + (a-b)**2)) \n",
    "\n",
    "\n",
    "def distance_matrix_cached(N,dist_cached):\n",
    "    D = zeros((N,N))\n",
    "    for i in range(N):\n",
    "        for j in range(i+1):\n",
    "            D[i,j] = D[j,i] = dist_cached(i,j)\n",
    "    return D\n"
   ]
  },
  {
   "cell_type": "code",
   "execution_count": 41,
   "metadata": {},
   "outputs": [
    {
     "name": "stdout",
     "output_type": "stream",
     "text": [
      "CPU times: user 18.7 s, sys: 3.99 ms, total: 18.7 s\n",
      "Wall time: 18.7 s\n",
      "CPU times: user 8.74 ms, sys: 0 ns, total: 8.74 ms\n",
      "Wall time: 8.63 ms\n",
      "error rate for d_H1\n"
     ]
    },
    {
     "data": {
      "text/plain": [
       "[0.23, 0.175, 0.145, 0.12125, 0.099375]"
      ]
     },
     "execution_count": 41,
     "metadata": {},
     "output_type": "execute_result"
    }
   ],
   "source": [
    "sizes = [100,200,400,800,1600]\n",
    "%time D_H1 = distance_matrix_cached(max(sizes),d_H1_cached)\n",
    "%time errors = [performance_evaluator(n,D_H1) for n in sizes]\n",
    "\n",
    "print(\"error rate for d_H1\")\n",
    "errors"
   ]
  },
  {
   "cell_type": "markdown",
   "metadata": {},
   "source": [
    "## Assignment 7\n",
    "\n",
    "An even better improvement on the previous distance function is given by the following algorithm\n",
    "\n",
    "- Given two images $f1$ and $f2$:\n",
    "    - Compute $$a = \\frac{f_1}{\\int_\\Omega f_1}$$, $$b=\\frac{f_2}{\\int_\\Omega f_2}$$\n",
    "    - Solve \n",
    "    $$\n",
    "    -\\Delta \\phi = a - b \\qquad \\text{ in } \\Omega\n",
    "    $$\n",
    "    $$\n",
    "    \\phi = 0 \\text{ on } \\partial\\Omega\n",
    "    $$\n",
    "    - Define the *Monge Ampere* distance\n",
    "    $$\n",
    "    d_{MA}(f_1,f_2) = \\int_\\Omega (a+b)|\\nabla \\phi|^2\n",
    "    $$\n",
    "\n",
    "- Compute the distance matrix and the efficiency for this distance for N=100,200,400,800,1600"
   ]
  },
  {
   "cell_type": "code",
   "execution_count": 42,
   "metadata": {},
   "outputs": [],
   "source": [
    "from scipy.sparse import diags\n",
    "from scipy.sparse.linalg import splu\n",
    "from scipy.sparse import csc_matrix\n",
    "\n",
    "\"\"\" I built this Laplacian operator thinking about the order of the elements in Minst database's images,\n",
    "    that is not the lexicographical one, but because of symmetry the result it's the same. \"\"\"\n",
    "\n",
    "def build_laplacian(N):\n",
    "    L = diags([1,   1,-4,1,   1], [-N,   -1, 0, 1,    N], shape=(N*N, N*N)).toarray()\n",
    "    for i in range(1,N):\n",
    "        L[i*N,(i*N)-1] = 0\n",
    "        L[(i*N)-1,i*N] = 0\n",
    "    return L\n",
    "   \n",
    "    \n",
    "\"\"\" Now I build a solver based on the LU decomposition of the Laplacian (with the minus sign) \"\"\"\n",
    "\n",
    "def build_poisson_equation_solver(N):\n",
    "    LAP = -(1)*build_laplacian(N)\n",
    "    LAP_csc = csc_matrix(LAP) # compact representation of sparse matrices\n",
    "    return splu(LAP_csc) # lu decomposition for sparse matrices\n",
    "    \n",
    "    \n",
    "\"\"\" In order to impose the boundary condition (= 0), I will apply the solver to the images\n",
    "    without their boundary, so the dimension of the Laplacian to \"invert\" is (N-2)^2 x (N-2)^2. \"\"\"\n",
    "\n",
    "l = len(x_train[0]) - 2 \n",
    "poisson_equation_solver = build_poisson_equation_solver(l)  \n",
    "    \n",
    "def solve_poisson_equation(image):\n",
    "    L = len(image)\n",
    "    reduced = image[1:-1,1:-1] # excluding the boundary\n",
    "    l = L-2\n",
    "    \n",
    "    v = reduced.ravel()\n",
    "    u = poisson_equation_solver.solve(v)\n",
    "    \n",
    "    u = reshape(u,(l,l))\n",
    "    result = zeros((L,L))\n",
    "    result[1:-1,1:-1]=u  # adding the 0 boundary\n",
    "    return result\n",
    "\n",
    "\n",
    "def d_MA(f1,f2):\n",
    "    a = f1/image_integral(f1)\n",
    "    b = f2/image_integral(f2)\n",
    "    \n",
    "    theta = solve_poisson_equation(a-b)\n",
    "    return image_integral((a+b)*gradient_norm(theta))"
   ]
  },
  {
   "cell_type": "code",
   "execution_count": 43,
   "metadata": {},
   "outputs": [],
   "source": [
    "\"\"\" As I did before, I try to exploit linearity and do some precalculations on x. \"\"\"\n",
    "\n",
    "def generate_poisson_equation_solution_x():\n",
    "    n = len(normalized_x)\n",
    "    im_n = zeros(shape(normalized_x))\n",
    "    for i in range(n):\n",
    "        im_n[i] = solve_poisson_equation(normalized_x[i])   \n",
    "    return im_n\n",
    "\n",
    "poisson_equation_solution_x = generate_poisson_equation_solution_x()\n",
    "\n",
    "\n",
    "# first index varies the image, the second one choose the x or y derivative\n",
    "def generate_gradient_poisson_equation_solution_x():\n",
    "    n = len(poisson_equation_solution_x)\n",
    "    l = len(poisson_equation_solution_x[0])\n",
    "    im_gr = zeros((n,2,l,l))\n",
    "    for i in range(n):\n",
    "        im_gr[i] = numpy.gradient(poisson_equation_solution_x[i]) # gradient\n",
    "    return im_gr\n",
    "\n",
    "gradient_poisson_equation_solution_x = generate_gradient_poisson_equation_solution_x()\n",
    "\n",
    "\n",
    "\n",
    "\"\"\" The most relevant improvement is given by the fact that I don't need to compute the solution\n",
    "    of the poisson problem for every difference (a-b), since thanks to linearity I can just subtract the\n",
    "    two precalculated solutions of the images. \"\"\"\n",
    " \n",
    "def d_MA_cached(i,j):\n",
    "    a = normalized_x[i]\n",
    "    b = normalized_x[j]\n",
    "    \n",
    "    grXa = gradient_poisson_equation_solution_x[i][0]\n",
    "    grYa = gradient_poisson_equation_solution_x[i][1]\n",
    "    grXb = gradient_poisson_equation_solution_x[j][0]\n",
    "    grYb = gradient_poisson_equation_solution_x[j][1]\n",
    "    \n",
    "    return image_integral( ((grXa-grXb)**2 + (grYa-grYb)**2)*(a+b) )"
   ]
  },
  {
   "cell_type": "code",
   "execution_count": 44,
   "metadata": {},
   "outputs": [
    {
     "name": "stdout",
     "output_type": "stream",
     "text": [
      "CPU times: user 16.6 s, sys: 24 ms, total: 16.6 s\n",
      "Wall time: 16.6 s\n",
      "CPU times: user 9.84 ms, sys: 25 µs, total: 9.86 ms\n",
      "Wall time: 9.64 ms\n",
      "error rate for d_MA\n"
     ]
    },
    {
     "data": {
      "text/plain": [
       "[0.24, 0.2, 0.145, 0.12875, 0.12125]"
      ]
     },
     "execution_count": 44,
     "metadata": {},
     "output_type": "execute_result"
    }
   ],
   "source": [
    "sizes = [100,200,400,800,1600]\n",
    "%time D_MA = distance_matrix_cached(max(sizes),d_MA_cached)\n",
    "%time errors = [performance_evaluator(n,D_MA) for n in sizes]\n",
    "\n",
    "print(\"error rate for d_MA\")\n",
    "errors"
   ]
  },
  {
   "cell_type": "markdown",
   "metadata": {},
   "source": [
    "## Assigment 8 (optional for DSSC, PhD and LM, Mandatory for MHPC)\n",
    "\n",
    "Use the `BallTree` algorithm (https://en.wikipedia.org/wiki/Ball_tree), from the `sklearn` package, and construct a tree data structure **that uses one of the custom distances defined above**.\n",
    "\n",
    "For each N in 3200,6400,12800,25600,51200, and for each distance defined above\n",
    "\n",
    "- Build a tree using the first N entries of the training set `x_train`\n",
    "- Construct a function that tests the efficiency on all the entries of the test set `x_test`:\n",
    "    - for any image in `x_test`, call it `x_test[i]`, query the tree for the nearest neighbor (call it `k`), and assign as predicted digit the digit of the `x_train[k]` image, i.e., `y_train[k]`\n",
    "    - check if `y_train[k]` is equal to the corresponding entry in `y_test[i]`. If not, increment a counter of the error\n",
    "    - return the efficiency, i.e., `error_counter/len(x_test)`\n",
    "- Plot, in a single graph, the error of each distance as a function of `N` (including labels, titles, etc.)\n",
    "\n",
    "- Once you have the tree, experiment with different nearest neighbor algorithms, i.e., instead of taking only one nearest neighbor, take a larger number (a small number of your choice), and instead of returning the single closest digit, return the one with the largest number of occurrences. Plot the same graph you gave before, and see if you gain an improvement. Motivate all choices you have to make to get to the final answer."
   ]
  },
  {
   "cell_type": "code",
   "execution_count": 45,
   "metadata": {},
   "outputs": [],
   "source": [
    "from sklearn.neighbors import BallTree"
   ]
  },
  {
   "cell_type": "code",
   "execution_count": 91,
   "metadata": {},
   "outputs": [],
   "source": [
    "\"\"\" in order to exploit the precalculated data, I chose to use the indexes of the the images as data stored\n",
    "    in the ball tree. \"\"\"\n",
    "\n",
    "# I had to convert all the distances because they have to take arrays as inputs \n",
    "def d_MA_ball_tree(i,j):\n",
    "    return d_MA_cached(int(i[0]),int(j[0]))\n",
    "\n",
    "def d_H1_ball_tree(i,j):\n",
    "    return d_H1_cached(int(i[0]),int(j[0]))\n",
    "\n",
    "def d_one_ball_tree(i,j):\n",
    "    return d_one(x[int(i[0])],x[int(j[0])])\n",
    "\n",
    "def d_two_ball_tree(i,j):\n",
    "    return d_two(x[int(i[0])],x[int(j[0])])\n",
    "\n",
    "def d_infty_ball_tree(i,j):\n",
    "    return d_infty(x[int(i[0])],x[int(j[0])])\n",
    "\n",
    "# fins the most frequent occurence in an array\n",
    "def most_frequent(arr):\n",
    "    return argmax(bincount(arr))\n",
    "\n",
    "\n",
    "def build_ball_tree(N,distance, leaf=40):\n",
    "    return BallTree([[i] for i in range(N)], leaf_size=leaf, metric = 'pyfunc', func=distance)\n",
    "\n",
    "# the k parameter set how many neighbors to find, then the digits with most occurencies will be selected\n",
    "def bt_efficiency_test(tree, k, N = 10000):\n",
    "    starting_index = len(x_train)\n",
    "    test_set = [[i] for i in range(starting_index,starting_index+N)]\n",
    "    dist, candidates  = tree.query(test_set, k)\n",
    "    chosen_ones = [most_frequent(y) for y in y_train[candidates]]\n",
    "    correct = sum(chosen_ones == y_test[0:N])\n",
    "    return 1 - correct/N\n"
   ]
  },
  {
   "cell_type": "code",
   "execution_count": 81,
   "metadata": {
    "scrolled": true
   },
   "outputs": [],
   "source": [
    "Ns = [3200,6400,12800,25600,51200]\n",
    "distances = [d_infty_ball_tree, d_one_ball_tree, d_two_ball_tree, d_H1_ball_tree, d_MA_ball_tree]\n",
    "\n",
    "def build_ball_trees():  \n",
    "    ball_tree = {}\n",
    "    for d in distances:\n",
    "        for n in Ns:\n",
    "            ball_tree[d.__name__,n] = build_ball_tree(n,d)\n",
    "    return ball_tree\n",
    "\n",
    "Trees = build_ball_trees()\n"
   ]
  },
  {
   "cell_type": "code",
   "execution_count": 122,
   "metadata": {},
   "outputs": [
    {
     "name": "stdout",
     "output_type": "stream",
     "text": [
      "CPU times: user 1h 8min 30s, sys: 175 ms, total: 1h 8min 30s\n",
      "Wall time: 1h 8min 30s\n"
     ]
    }
   ],
   "source": [
    "\"\"\" Since the search time was very slow, I evaluated the performances for a reduced test set (250). \"\"\"\n",
    "\n",
    "\n",
    "distances = [\"d_infty_ball_tree\", \"d_one_ball_tree\", \"d_two_ball_tree\", \"d_H1_ball_tree\", \"d_MA_ball_tree\"]\n",
    "Ns = [3200,6400,12800,25600,51200]\n",
    "Ks = [1,3,20]\n",
    "\n",
    "%time errors = [[[bt_efficiency_test(Trees[d,n],k, N=250) for n in Ns] for d in distances] for k in Ks]"
   ]
  },
  {
   "cell_type": "code",
   "execution_count": 120,
   "metadata": {},
   "outputs": [
    {
     "name": "stdout",
     "output_type": "stream",
     "text": [
      "[[[ 0.424  0.368  0.288  0.256  0.212]\n",
      "  [ 0.116  0.092  0.072  0.052  0.024]\n",
      "  [ 0.104  0.08   0.068  0.044  0.016]\n",
      "  [ 0.096  0.068  0.056  0.028  0.02 ]\n",
      "  [ 0.08   0.068  0.064  0.028  0.02 ]]\n",
      "\n",
      " [[ 0.412  0.352  0.288  0.252  0.208]\n",
      "  [ 0.104  0.072  0.06   0.052  0.032]\n",
      "  [ 0.088  0.06   0.056  0.04   0.016]\n",
      "  [ 0.076  0.044  0.048  0.032  0.02 ]\n",
      "  [ 0.088  0.068  0.044  0.04   0.036]]\n",
      "\n",
      " [[ 0.372  0.336  0.272  0.228  0.176]\n",
      "  [ 0.108  0.092  0.076  0.044  0.04 ]\n",
      "  [ 0.1    0.076  0.056  0.048  0.032]\n",
      "  [ 0.088  0.068  0.052  0.032  0.028]\n",
      "  [ 0.116  0.068  0.052  0.036  0.036]]]\n"
     ]
    }
   ],
   "source": [
    "print(errors)"
   ]
  },
  {
   "cell_type": "code",
   "execution_count": 123,
   "metadata": {},
   "outputs": [
    {
     "data": {
      "image/png": "[encoded data removed]",
      "text/plain": [
       "<Figure size 432x288 with 1 Axes>"
      ]
     },
     "metadata": {
      "needs_background": "light"
     },
     "output_type": "display_data"
    }
   ],
   "source": [
    "errors_k1 = errors[0]\n",
    "\n",
    "for i in range(1,5):\n",
    "    plot(Ns, errors_k1[i])\n",
    "    \n",
    "_ = title('performances with k=1')\n",
    "_ = legend(['d_one','d_two','d_H1','d_MA'])"
   ]
  },
  {
   "cell_type": "code",
   "execution_count": 124,
   "metadata": {},
   "outputs": [
    {
     "data": {
      "image/png": "[encoded data removed]",
      "text/plain": [
       "<Figure size 432x288 with 1 Axes>"
      ]
     },
     "metadata": {
      "needs_background": "light"
     },
     "output_type": "display_data"
    }
   ],
   "source": [
    "errors_k3 = errors[1]\n",
    "\n",
    "for i in range(1,5):\n",
    "    plot(Ns, errors_k3[i])\n",
    "    \n",
    "_ = title('performances with k=3')\n",
    "_ = legend(['d_one','d_two','d_H1','d_MA'])\n"
   ]
  },
  {
   "cell_type": "code",
   "execution_count": 125,
   "metadata": {},
   "outputs": [
    {
     "data": {
      "image/png": "[encoded data removed]",
      "text/plain": [
       "<Figure size 432x288 with 1 Axes>"
      ]
     },
     "metadata": {
      "needs_background": "light"
     },
     "output_type": "display_data"
    }
   ],
   "source": [
    "errors_k20 = errors[2]\n",
    "\n",
    "for i in range(1,5):\n",
    "    plot(Ns, errors_k20[i])\n",
    "    \n",
    "_ = title('performances with k=20')\n",
    "_ = legend(['d_one','d_two','d_H1','d_MA'])"
   ]
  },
  {
   "cell_type": "code",
   "execution_count": null,
   "metadata": {},
   "outputs": [],
   "source": [
    "\"\"\" It seems that increasing the number of neighbors doesn't improve the performances, I think this happens\n",
    "    because these algorithms are better in finding two images that are almost perfectly identical \n",
    "    than measuring images similarity. So in my opinion these algorithms perform well because\n",
    "    they have a large database in wich to find an almost identical image rather than\n",
    "    because they are able to find some similar images and then they pick the most frequent. \"\"\""
   ]
  },
  {
   "cell_type": "code",
   "execution_count": 126,
   "metadata": {},
   "outputs": [
    {
     "name": "stdout",
     "output_type": "stream",
     "text": [
      "building a ball tree with leaves of size 40 takes:\n",
      "CPU times: user 15.1 s, sys: 8 ms, total: 15.1 s\n",
      "Wall time: 15.1 s\n",
      "\n",
      "building a ball tree with leaves of size 1000 takes:\n",
      "CPU times: user 10.3 s, sys: 4 µs, total: 10.3 s\n",
      "Wall time: 10.3 s\n",
      "\n",
      "building a ball with just one leaf:\n",
      "CPU times: user 983 ms, sys: 0 ns, total: 983 ms\n",
      "Wall time: 986 ms\n"
     ]
    }
   ],
   "source": [
    "\"\"\" I noticed that effectively the ball tree didn't work well in terms of time, \n",
    "    so I tried to compare the performances for different leaf sizes.\n",
    "    The leaf size parameter set when to switch to brute force when searcing for the nearest neighbor.\n",
    "    It seems (on the web) that 40 (that is the default value) usually give the best results.\n",
    "    \n",
    "    What I expect is that building a tree with tiny leaves takes more time but reduce the searching time,\n",
    "    and the opposite for large leaves. I also considered the limit case of a unique leaf, so in this case\n",
    "    the searching algorithm should just compare the test image with every train image. \"\"\"\n",
    "\n",
    "print(\"building a ball tree with leaves of size 40 takes:\")\n",
    "%time tree_leaf_40 = build_ball_tree(60000,d_MA_ball_tree, leaf=40)\n",
    "\n",
    "print(\"\\nbuilding a ball tree with leaves of size 1000 takes:\")\n",
    "%time tree_leaf_1000 = build_ball_tree(60000,d_MA_ball_tree, leaf=1000)\n",
    "\n",
    "print(\"\\nbuilding a ball with just one leaf:\")\n",
    "%time tree_leaf_60000 = build_ball_tree(60000,d_MA_ball_tree, leaf=60000)"
   ]
  },
  {
   "cell_type": "code",
   "execution_count": 127,
   "metadata": {},
   "outputs": [
    {
     "name": "stdout",
     "output_type": "stream",
     "text": [
      "nearest neighbor searching time,\n",
      "leaf size 40:\n",
      "CPU times: user 1.01 s, sys: 1 µs, total: 1.01 s\n",
      "Wall time: 1.01 s\n",
      "\n",
      "leaf size 1000:\n",
      "CPU times: user 1.04 s, sys: 0 ns, total: 1.04 s\n",
      "Wall time: 1.04 s\n",
      "\n",
      "leaf size 60000:\n",
      "CPU times: user 1.01 s, sys: 0 ns, total: 1.01 s\n",
      "Wall time: 1.01 s\n",
      "\n",
      "naive searching \n",
      "CPU times: user 962 ms, sys: 0 ns, total: 962 ms\n",
      "Wall time: 962 ms\n"
     ]
    }
   ],
   "source": [
    "\"\"\" As expected building a tree with small leaves takes more time, we can notice that building\n",
    "    a tree with a unique leaf takes just almost 1 second.\n",
    "    Now I try to compare the searching performance, and the trees with small leaf size should \n",
    "    perform better. I also compared it with a naive searching for the closest element in the training set. \"\"\"\n",
    "\n",
    "imm = [60123] # I take a random image in the test set\n",
    "\n",
    "print(\"nearest neighbor searching time,\\nleaf size 40:\")\n",
    "%time tree_leaf_40.query([imm], k=1)\n",
    "\n",
    "print(\"\\nleaf size 1000:\")\n",
    "%time tree_leaf_1000.query([imm], k=1)\n",
    "\n",
    "print(\"\\nleaf size 60000:\")\n",
    "%time tree_leaf_60000.query([imm], k=1)\n",
    "\n",
    "print(\"\\nnaive searching \")\n",
    "%time _ = argmin([d_MA_ball_tree(imm,[i]) for i in range(60000)])"
   ]
  },
  {
   "cell_type": "code",
   "execution_count": 128,
   "metadata": {},
   "outputs": [
    {
     "name": "stdout",
     "output_type": "stream",
     "text": [
      "dimension=2, leaf=40:\n",
      "CPU times: user 0 ns, sys: 1.05 ms, total: 1.05 ms\n",
      "Wall time: 829 µs\n",
      "\n",
      "dimension=2, leaf=60000:\n",
      "CPU times: user 275 ms, sys: 2 µs, total: 275 ms\n",
      "Wall time: 274 ms\n",
      "\n",
      "dimension=784, leaf=40:\n",
      "CPU times: user 397 ms, sys: 0 ns, total: 397 ms\n",
      "Wall time: 397 ms\n",
      "\n",
      "dimension=784, leaf=60000:\n",
      "CPU times: user 338 ms, sys: 0 ns, total: 338 ms\n",
      "Wall time: 338 ms\n",
      "\n",
      "\n",
      "dimension=2, leaf=40, predefined distance:\n",
      "CPU times: user 147 µs, sys: 0 ns, total: 147 µs\n",
      "Wall time: 140 µs\n",
      "\n",
      "dimension=2, leaf=60000, predefined distance:\n",
      "CPU times: user 912 µs, sys: 0 ns, total: 912 µs\n",
      "Wall time: 551 µs\n",
      "\n",
      "dimension=784, leaf=40, predefined distance:\n",
      "CPU times: user 73.9 ms, sys: 0 ns, total: 73.9 ms\n",
      "Wall time: 73.6 ms\n",
      "\n",
      "dimension=784, leaf=60000, predefined distance:\n",
      "CPU times: user 63.2 ms, sys: 3 µs, total: 63.2 ms\n",
      "Wall time: 62.6 ms\n"
     ]
    }
   ],
   "source": [
    "\"\"\" We can see that all the trees are probably looking for the nearest neighbor in a naive way,\n",
    "    so they don't give an improvement to the naive way.\n",
    "    I think that the problem is the high dimensionality, and that it's not possible to find \"clusters\"\n",
    "    that well partition the space.\n",
    "    So I tried to compare the performances of trees that deal with vectors with different dimensions. \"\"\"\n",
    "\n",
    "random.seed(0)\n",
    "size = 60000\n",
    "\n",
    "find_me = zeros(2)\n",
    "X = np.random.random((60000, 2))  # 60000 points in 2 dimensions\n",
    "\n",
    "tree_dim_2_leaf_40 = BallTree(X, leaf_size=40,  metric = 'pyfunc', func=d_two)\n",
    "print(\"dimension=2, leaf=40:\")\n",
    "%time dist, ind = tree_dim_2_leaf_40.query([find_me], k=1)\n",
    "\n",
    "tree_dim_2_leaf_60000 = BallTree(X, leaf_size=60000,  metric = 'pyfunc', func=d_two)\n",
    "print(\"\\ndimension=2, leaf=60000:\")\n",
    "%time dist, ind = tree_dim_2_leaf_60000.query([find_me], k=1)\n",
    "\n",
    "\n",
    "find_me = zeros(28*28)\n",
    "X = np.random.random((60000, 28*28))  # 60000 points in 28*28 dimensions\n",
    "\n",
    "tree_dim_784_leaf_40 = BallTree(X, leaf_size=40,  metric = 'pyfunc', func=d_two)\n",
    "print(\"\\ndimension=784, leaf=40:\")\n",
    "%time dist, ind = tree_dim_784_leaf_40.query([find_me], k=1)\n",
    "\n",
    "tree_dim_784_leaf_60000 = BallTree(X, leaf_size=60000,  metric = 'pyfunc', func=d_two)\n",
    "print(\"\\ndimension=784, leaf=60000:\")\n",
    "%time dist, ind = tree_dim_784_leaf_60000.query([find_me], k=1)\n",
    "\n",
    "\n",
    "\"\"\" I also checked that the problem wasn't the user defined distance. \"\"\"\n",
    "\n",
    "find_me = zeros(2)\n",
    "X = np.random.random((60000, 2))\n",
    "\n",
    "tree_dim_2_leaf_40 = BallTree(X, leaf_size=40,  metric = 'euclidean')\n",
    "print(\"\\n\\ndimension=2, leaf=40, predefined distance:\")\n",
    "%time dist, ind = tree_dim_2_leaf_40.query([find_me], k=1)\n",
    "\n",
    "tree_dim_2_leaf_60000 = BallTree(X, leaf_size=60000,  metric = 'euclidean')\n",
    "print(\"\\ndimension=2, leaf=60000, predefined distance:\")\n",
    "%time dist, ind = tree_dim_2_leaf_60000.query([find_me], k=1)\n",
    "\n",
    "\n",
    "find_me = zeros(28*28)\n",
    "X = np.random.random((60000, 28*28))\n",
    "\n",
    "tree_dim_784_leaf_40 = BallTree(X, leaf_size=40,  metric = 'euclidean')\n",
    "print(\"\\ndimension=784, leaf=40, predefined distance:\")\n",
    "%time dist, ind = tree_dim_784_leaf_40.query([find_me], k=1)\n",
    "\n",
    "tree_dim_784_leaf_60000 = BallTree(X, leaf_size=60000,  metric = 'euclidean')\n",
    "print(\"\\ndimension=784, leaf=60000, predefined distance:\")\n",
    "%time dist, ind = tree_dim_784_leaf_60000.query([find_me], k=1)"
   ]
  },
  {
   "cell_type": "code",
   "execution_count": 130,
   "metadata": {},
   "outputs": [],
   "source": [
    "\"\"\" So we can see that we obtained an improvement only in the case of low dimensionality. \"\"\""
   ]
  }
 ],
 "metadata": {
  "kernelspec": {
   "display_name": "Python 3",
   "language": "python",
   "name": "python3"
  },
  "language_info": {
   "codemirror_mode": {
    "name": "ipython",
    "version": 3
   },
   "file_extension": ".py",
   "mimetype": "text/x-python",
   "name": "python",
   "nbconvert_exporter": "python",
   "pygments_lexer": "ipython3",
   "version": "3.7.0"
  }
 },
 "nbformat": 4,
 "nbformat_minor": 2
}
